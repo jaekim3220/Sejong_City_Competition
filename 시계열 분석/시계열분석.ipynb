{
 "cells": [
  {
   "cell_type": "markdown",
   "metadata": {},
   "source": [
    "# 버스 사용량 수요 시계열 분석"
   ]
  },
  {
   "cell_type": "markdown",
   "metadata": {},
   "source": [
    "## 패키지/그래프 초기화"
   ]
  },
  {
   "cell_type": "code",
   "execution_count": 1,
   "metadata": {},
   "outputs": [],
   "source": [
    "from pandas import read_excel,  to_datetime, DateOffset, concat\n",
    "from matplotlib import pyplot as plt\n",
    "from matplotlib import dates as mdates\n",
    "from statsmodels.tsa.arima.model import ARIMA\n",
    "from datetime import timedelta\n",
    "import seaborn as sb\n",
    "import sys\n",
    "from helper import set_datetime_index"
   ]
  },
  {
   "cell_type": "code",
   "execution_count": 2,
   "metadata": {},
   "outputs": [],
   "source": [
    "plt.rcParams[\"font.family\"] = 'AppleGothic' if sys.platform == 'darwin' else 'Malgun Gothic'\n",
    "plt.rcParams[\"font.size\"] = 12\n",
    "plt.rcParams[\"figure.figsize\"] = (15, 5)\n",
    "plt.rcParams[\"axes.unicode_minus\"] = False"
   ]
  },
  {
   "cell_type": "markdown",
   "metadata": {},
   "source": [
    "## 데이터 준비"
   ]
  },
  {
   "cell_type": "code",
   "execution_count": 3,
   "metadata": {},
   "outputs": [
    {
     "data": {
      "text/html": [
       "<div>\n",
       "<style scoped>\n",
       "    .dataframe tbody tr th:only-of-type {\n",
       "        vertical-align: middle;\n",
       "    }\n",
       "\n",
       "    .dataframe tbody tr th {\n",
       "        vertical-align: top;\n",
       "    }\n",
       "\n",
       "    .dataframe thead th {\n",
       "        text-align: right;\n",
       "    }\n",
       "</style>\n",
       "<table border=\"1\" class=\"dataframe\">\n",
       "  <thead>\n",
       "    <tr style=\"text-align: right;\">\n",
       "      <th></th>\n",
       "      <th>일자</th>\n",
       "      <th>행정구역</th>\n",
       "      <th>승차</th>\n",
       "      <th>하차</th>\n",
       "      <th>환승</th>\n",
       "    </tr>\n",
       "  </thead>\n",
       "  <tbody>\n",
       "    <tr>\n",
       "      <th>0</th>\n",
       "      <td>2020년01월01일</td>\n",
       "      <td>가람동</td>\n",
       "      <td>38</td>\n",
       "      <td>43</td>\n",
       "      <td>5</td>\n",
       "    </tr>\n",
       "    <tr>\n",
       "      <th>1</th>\n",
       "      <td>2020년01월01일</td>\n",
       "      <td>고운동</td>\n",
       "      <td>997</td>\n",
       "      <td>900</td>\n",
       "      <td>110</td>\n",
       "    </tr>\n",
       "    <tr>\n",
       "      <th>2</th>\n",
       "      <td>2020년01월01일</td>\n",
       "      <td>금남면</td>\n",
       "      <td>490</td>\n",
       "      <td>480</td>\n",
       "      <td>28</td>\n",
       "    </tr>\n",
       "    <tr>\n",
       "      <th>3</th>\n",
       "      <td>2020년01월01일</td>\n",
       "      <td>나성동</td>\n",
       "      <td>892</td>\n",
       "      <td>765</td>\n",
       "      <td>119</td>\n",
       "    </tr>\n",
       "    <tr>\n",
       "      <th>4</th>\n",
       "      <td>2020년01월01일</td>\n",
       "      <td>다정동</td>\n",
       "      <td>175</td>\n",
       "      <td>251</td>\n",
       "      <td>19</td>\n",
       "    </tr>\n",
       "  </tbody>\n",
       "</table>\n",
       "</div>"
      ],
      "text/plain": [
       "            일자 행정구역   승차   하차   환승\n",
       "0  2020년01월01일  가람동   38   43    5\n",
       "1  2020년01월01일  고운동  997  900  110\n",
       "2  2020년01월01일  금남면  490  480   28\n",
       "3  2020년01월01일  나성동  892  765  119\n",
       "4  2020년01월01일  다정동  175  251   19"
      ]
     },
     "execution_count": 3,
     "metadata": {},
     "output_type": "execute_result"
    }
   ],
   "source": [
    "df = read_excel(\"111_지역별승하차.xls\")\n",
    "df.head()"
   ]
  },
  {
   "cell_type": "code",
   "execution_count": 4,
   "metadata": {},
   "outputs": [],
   "source": [
    "df1 = df.copy()"
   ]
  },
  {
   "cell_type": "code",
   "execution_count": 5,
   "metadata": {},
   "outputs": [
    {
     "data": {
      "text/html": [
       "<div>\n",
       "<style scoped>\n",
       "    .dataframe tbody tr th:only-of-type {\n",
       "        vertical-align: middle;\n",
       "    }\n",
       "\n",
       "    .dataframe tbody tr th {\n",
       "        vertical-align: top;\n",
       "    }\n",
       "\n",
       "    .dataframe thead th {\n",
       "        text-align: right;\n",
       "    }\n",
       "</style>\n",
       "<table border=\"1\" class=\"dataframe\">\n",
       "  <thead>\n",
       "    <tr style=\"text-align: right;\">\n",
       "      <th></th>\n",
       "      <th>일자</th>\n",
       "      <th>행정구역</th>\n",
       "      <th>승차</th>\n",
       "      <th>하차</th>\n",
       "      <th>환승</th>\n",
       "    </tr>\n",
       "  </thead>\n",
       "  <tbody>\n",
       "    <tr>\n",
       "      <th>22</th>\n",
       "      <td>2020년01월01일</td>\n",
       "      <td>합계</td>\n",
       "      <td>16533</td>\n",
       "      <td>14347</td>\n",
       "      <td>2600</td>\n",
       "    </tr>\n",
       "    <tr>\n",
       "      <th>46</th>\n",
       "      <td>2020년01월02일</td>\n",
       "      <td>합계</td>\n",
       "      <td>36164</td>\n",
       "      <td>31159</td>\n",
       "      <td>5652</td>\n",
       "    </tr>\n",
       "    <tr>\n",
       "      <th>70</th>\n",
       "      <td>2020년01월03일</td>\n",
       "      <td>합계</td>\n",
       "      <td>38389</td>\n",
       "      <td>32163</td>\n",
       "      <td>6002</td>\n",
       "    </tr>\n",
       "    <tr>\n",
       "      <th>94</th>\n",
       "      <td>2020년01월04일</td>\n",
       "      <td>합계</td>\n",
       "      <td>24847</td>\n",
       "      <td>20774</td>\n",
       "      <td>3928</td>\n",
       "    </tr>\n",
       "    <tr>\n",
       "      <th>117</th>\n",
       "      <td>2020년01월05일</td>\n",
       "      <td>합계</td>\n",
       "      <td>19212</td>\n",
       "      <td>16882</td>\n",
       "      <td>2970</td>\n",
       "    </tr>\n",
       "  </tbody>\n",
       "</table>\n",
       "</div>"
      ],
      "text/plain": [
       "              일자 행정구역     승차     하차    환승\n",
       "22   2020년01월01일   합계  16533  14347  2600\n",
       "46   2020년01월02일   합계  36164  31159  5652\n",
       "70   2020년01월03일   합계  38389  32163  6002\n",
       "94   2020년01월04일   합계  24847  20774  3928\n",
       "117  2020년01월05일   합계  19212  16882  2970"
      ]
     },
     "execution_count": 5,
     "metadata": {},
     "output_type": "execute_result"
    }
   ],
   "source": [
    "df1 = df.query(\"행정구역 == '합계'\")\n",
    "df1.head()"
   ]
  },
  {
   "cell_type": "code",
   "execution_count": 6,
   "metadata": {},
   "outputs": [
    {
     "name": "stderr",
     "output_type": "stream",
     "text": [
      "C:\\Users\\Public\\Documents\\ESTsoft\\CreatorTemp\\ipykernel_21332\\539741218.py:1: SettingWithCopyWarning: \n",
      "A value is trying to be set on a copy of a slice from a DataFrame.\n",
      "Try using .loc[row_indexer,col_indexer] = value instead\n",
      "\n",
      "See the caveats in the documentation: https://pandas.pydata.org/pandas-docs/stable/user_guide/indexing.html#returning-a-view-versus-a-copy\n",
      "  df1['일자'] = to_datetime(df1['일자'], format=\"%Y년%m월%d일\")\n"
     ]
    },
    {
     "data": {
      "text/html": [
       "<div>\n",
       "<style scoped>\n",
       "    .dataframe tbody tr th:only-of-type {\n",
       "        vertical-align: middle;\n",
       "    }\n",
       "\n",
       "    .dataframe tbody tr th {\n",
       "        vertical-align: top;\n",
       "    }\n",
       "\n",
       "    .dataframe thead th {\n",
       "        text-align: right;\n",
       "    }\n",
       "</style>\n",
       "<table border=\"1\" class=\"dataframe\">\n",
       "  <thead>\n",
       "    <tr style=\"text-align: right;\">\n",
       "      <th></th>\n",
       "      <th>일자</th>\n",
       "      <th>행정구역</th>\n",
       "      <th>승차</th>\n",
       "      <th>하차</th>\n",
       "      <th>환승</th>\n",
       "    </tr>\n",
       "  </thead>\n",
       "  <tbody>\n",
       "    <tr>\n",
       "      <th>22</th>\n",
       "      <td>2020-01-01</td>\n",
       "      <td>합계</td>\n",
       "      <td>16533</td>\n",
       "      <td>14347</td>\n",
       "      <td>2600</td>\n",
       "    </tr>\n",
       "    <tr>\n",
       "      <th>46</th>\n",
       "      <td>2020-01-02</td>\n",
       "      <td>합계</td>\n",
       "      <td>36164</td>\n",
       "      <td>31159</td>\n",
       "      <td>5652</td>\n",
       "    </tr>\n",
       "    <tr>\n",
       "      <th>70</th>\n",
       "      <td>2020-01-03</td>\n",
       "      <td>합계</td>\n",
       "      <td>38389</td>\n",
       "      <td>32163</td>\n",
       "      <td>6002</td>\n",
       "    </tr>\n",
       "    <tr>\n",
       "      <th>94</th>\n",
       "      <td>2020-01-04</td>\n",
       "      <td>합계</td>\n",
       "      <td>24847</td>\n",
       "      <td>20774</td>\n",
       "      <td>3928</td>\n",
       "    </tr>\n",
       "    <tr>\n",
       "      <th>117</th>\n",
       "      <td>2020-01-05</td>\n",
       "      <td>합계</td>\n",
       "      <td>19212</td>\n",
       "      <td>16882</td>\n",
       "      <td>2970</td>\n",
       "    </tr>\n",
       "    <tr>\n",
       "      <th>...</th>\n",
       "      <td>...</td>\n",
       "      <td>...</td>\n",
       "      <td>...</td>\n",
       "      <td>...</td>\n",
       "      <td>...</td>\n",
       "    </tr>\n",
       "    <tr>\n",
       "      <th>32973</th>\n",
       "      <td>2023-10-27</td>\n",
       "      <td>합계</td>\n",
       "      <td>42371</td>\n",
       "      <td>36266</td>\n",
       "      <td>6903</td>\n",
       "    </tr>\n",
       "    <tr>\n",
       "      <th>32997</th>\n",
       "      <td>2023-10-28</td>\n",
       "      <td>합계</td>\n",
       "      <td>28201</td>\n",
       "      <td>24117</td>\n",
       "      <td>4373</td>\n",
       "    </tr>\n",
       "    <tr>\n",
       "      <th>33020</th>\n",
       "      <td>2023-10-29</td>\n",
       "      <td>합계</td>\n",
       "      <td>22385</td>\n",
       "      <td>19654</td>\n",
       "      <td>3588</td>\n",
       "    </tr>\n",
       "    <tr>\n",
       "      <th>33043</th>\n",
       "      <td>2023-10-30</td>\n",
       "      <td>합계</td>\n",
       "      <td>38297</td>\n",
       "      <td>33367</td>\n",
       "      <td>6232</td>\n",
       "    </tr>\n",
       "    <tr>\n",
       "      <th>33067</th>\n",
       "      <td>2023-10-31</td>\n",
       "      <td>합계</td>\n",
       "      <td>38465</td>\n",
       "      <td>33528</td>\n",
       "      <td>6197</td>\n",
       "    </tr>\n",
       "  </tbody>\n",
       "</table>\n",
       "<p>1400 rows × 5 columns</p>\n",
       "</div>"
      ],
      "text/plain": [
       "              일자 행정구역     승차     하차    환승\n",
       "22    2020-01-01   합계  16533  14347  2600\n",
       "46    2020-01-02   합계  36164  31159  5652\n",
       "70    2020-01-03   합계  38389  32163  6002\n",
       "94    2020-01-04   합계  24847  20774  3928\n",
       "117   2020-01-05   합계  19212  16882  2970\n",
       "...          ...  ...    ...    ...   ...\n",
       "32973 2023-10-27   합계  42371  36266  6903\n",
       "32997 2023-10-28   합계  28201  24117  4373\n",
       "33020 2023-10-29   합계  22385  19654  3588\n",
       "33043 2023-10-30   합계  38297  33367  6232\n",
       "33067 2023-10-31   합계  38465  33528  6197\n",
       "\n",
       "[1400 rows x 5 columns]"
      ]
     },
     "execution_count": 6,
     "metadata": {},
     "output_type": "execute_result"
    }
   ],
   "source": [
    "df1['일자'] = to_datetime(df1['일자'], format=\"%Y년%m월%d일\")\n",
    "df1"
   ]
  },
  {
   "cell_type": "markdown",
   "metadata": {},
   "source": [
    "## 데이터 타입 변경"
   ]
  },
  {
   "cell_type": "code",
   "execution_count": 7,
   "metadata": {},
   "outputs": [
    {
     "data": {
      "text/html": [
       "<div>\n",
       "<style scoped>\n",
       "    .dataframe tbody tr th:only-of-type {\n",
       "        vertical-align: middle;\n",
       "    }\n",
       "\n",
       "    .dataframe tbody tr th {\n",
       "        vertical-align: top;\n",
       "    }\n",
       "\n",
       "    .dataframe thead th {\n",
       "        text-align: right;\n",
       "    }\n",
       "</style>\n",
       "<table border=\"1\" class=\"dataframe\">\n",
       "  <thead>\n",
       "    <tr style=\"text-align: right;\">\n",
       "      <th></th>\n",
       "      <th>행정구역</th>\n",
       "      <th>승차</th>\n",
       "      <th>하차</th>\n",
       "      <th>환승</th>\n",
       "    </tr>\n",
       "  </thead>\n",
       "  <tbody>\n",
       "    <tr>\n",
       "      <th>2023-10-27</th>\n",
       "      <td>합계</td>\n",
       "      <td>42371</td>\n",
       "      <td>36266</td>\n",
       "      <td>6903</td>\n",
       "    </tr>\n",
       "    <tr>\n",
       "      <th>2023-10-28</th>\n",
       "      <td>합계</td>\n",
       "      <td>28201</td>\n",
       "      <td>24117</td>\n",
       "      <td>4373</td>\n",
       "    </tr>\n",
       "    <tr>\n",
       "      <th>2023-10-29</th>\n",
       "      <td>합계</td>\n",
       "      <td>22385</td>\n",
       "      <td>19654</td>\n",
       "      <td>3588</td>\n",
       "    </tr>\n",
       "    <tr>\n",
       "      <th>2023-10-30</th>\n",
       "      <td>합계</td>\n",
       "      <td>38297</td>\n",
       "      <td>33367</td>\n",
       "      <td>6232</td>\n",
       "    </tr>\n",
       "    <tr>\n",
       "      <th>2023-10-31</th>\n",
       "      <td>합계</td>\n",
       "      <td>38465</td>\n",
       "      <td>33528</td>\n",
       "      <td>6197</td>\n",
       "    </tr>\n",
       "  </tbody>\n",
       "</table>\n",
       "</div>"
      ],
      "text/plain": [
       "           행정구역     승차     하차    환승\n",
       "2023-10-27   합계  42371  36266  6903\n",
       "2023-10-28   합계  28201  24117  4373\n",
       "2023-10-29   합계  22385  19654  3588\n",
       "2023-10-30   합계  38297  33367  6232\n",
       "2023-10-31   합계  38465  33528  6197"
      ]
     },
     "execution_count": 7,
     "metadata": {},
     "output_type": "execute_result"
    }
   ],
   "source": [
    "df1 = set_datetime_index(df1,'일자')\n",
    "df1.tail()"
   ]
  },
  {
   "cell_type": "code",
   "execution_count": 8,
   "metadata": {},
   "outputs": [],
   "source": [
    "# exp_time_data(data=df1, yname=\"승차\", sd_model='m', max_diff=10)"
   ]
  },
  {
   "cell_type": "markdown",
   "metadata": {},
   "source": [
    "> seasonal_order=(1,1,0,24)가 적절"
   ]
  },
  {
   "cell_type": "code",
   "execution_count": 9,
   "metadata": {},
   "outputs": [
    {
     "name": "stdout",
     "output_type": "stream",
     "text": [
      "                                    SARIMAX Results                                     \n",
      "========================================================================================\n",
      "Dep. Variable:                               승차   No. Observations:                 1400\n",
      "Model:             ARIMA(1, 1, 0)x(1, 1, 0, 24)   Log Likelihood              -14765.682\n",
      "Date:                          Wed, 08 Nov 2023   AIC                          29537.364\n",
      "Time:                                  15:30:13   BIC                          29553.043\n",
      "Sample:                              01-01-2020   HQIC                         29543.231\n",
      "                                   - 10-31-2023                                         \n",
      "Covariance Type:                            opg                                         \n",
      "==============================================================================\n",
      "                 coef    std err          z      P>|z|      [0.025      0.975]\n",
      "------------------------------------------------------------------------------\n",
      "ar.L1         -0.1925      0.034     -5.646      0.000      -0.259      -0.126\n",
      "ar.S.L24      -0.5787      0.030    -19.044      0.000      -0.638      -0.519\n",
      "sigma2      1.628e+08    1.7e-11   9.57e+18      0.000    1.63e+08    1.63e+08\n",
      "===================================================================================\n",
      "Ljung-Box (L1) (Q):                   7.04   Jarque-Bera (JB):               138.41\n",
      "Prob(Q):                              0.01   Prob(JB):                         0.00\n",
      "Heteroskedasticity (H):               1.54   Skew:                            -0.47\n",
      "Prob(H) (two-sided):                  0.00   Kurtosis:                         4.24\n",
      "===================================================================================\n",
      "\n",
      "Warnings:\n",
      "[1] Covariance matrix calculated using the outer product of gradients (complex-step).\n",
      "[2] Covariance matrix is singular or near-singular, with condition number 5.5e+34. Standard errors may be unstable.\n"
     ]
    }
   ],
   "source": [
    "model = ARIMA(df1['승차'], order= (1,1,0), seasonal_order=(1,1,0,24))\n",
    "fit = model.fit()\n",
    "print(fit.summary())"
   ]
  },
  {
   "cell_type": "code",
   "execution_count": 10,
   "metadata": {},
   "outputs": [
    {
     "data": {
      "text/plain": [
       "2020-01-01        0.000000\n",
       "2020-01-02    13376.027811\n",
       "2020-01-03    32403.807423\n",
       "2020-01-04    37965.480195\n",
       "2020-01-05    27442.918794\n",
       "Freq: D, dtype: float64"
      ]
     },
     "execution_count": 10,
     "metadata": {},
     "output_type": "execute_result"
    }
   ],
   "source": [
    "fv = fit.fittedvalues\n",
    "fv.head()"
   ]
  },
  {
   "cell_type": "code",
   "execution_count": 11,
   "metadata": {},
   "outputs": [
    {
     "data": {
      "text/plain": [
       "2023-11-01    34385.350429\n",
       "2023-11-02    37454.615893\n",
       "2023-11-03    32805.373592\n",
       "2023-11-04    30681.567809\n",
       "2023-11-05    40817.798577\n",
       "Freq: D, Name: predicted_mean, dtype: float64"
      ]
     },
     "execution_count": 11,
     "metadata": {},
     "output_type": "execute_result"
    }
   ],
   "source": [
    "fc = fit.forecast(730)\n",
    "fc.head()"
   ]
  },
  {
   "cell_type": "code",
   "execution_count": 12,
   "metadata": {},
   "outputs": [],
   "source": [
    "# # 주석 지우지 말 것. 지울 거라면 아래 그래프 셀 동작 후 지울 것\n",
    "# # 데이터 프레임을 2달 간격으로 리샘플링\n",
    "# df1_resampled = df1.resample('2M').sum()\n",
    "# df1_resampled.head()"
   ]
  },
  {
   "cell_type": "code",
   "execution_count": 13,
   "metadata": {},
   "outputs": [],
   "source": [
    "# fc_resampled"
   ]
  },
  {
   "cell_type": "code",
   "execution_count": 14,
   "metadata": {},
   "outputs": [],
   "source": [
    "# df1_resampled.head()"
   ]
  },
  {
   "cell_type": "code",
   "execution_count": 15,
   "metadata": {},
   "outputs": [
    {
     "data": {
      "image/png": "[encoded data removed]",
      "text/plain": [
       "<Figure size 1500x700 with 1 Axes>"
      ]
     },
     "metadata": {},
     "output_type": "display_data"
    }
   ],
   "source": [
    "plt.figure(figsize=(15, 7))\n",
    "\n",
    "# 데이터 프레임을 2달 간격으로 리샘플링\n",
    "df1_resampled = df1.resample('2M').sum()\n",
    "df1_resampled = df1_resampled.iloc[:-1]\n",
    "\n",
    "# 원본 데이터 (2023-10까지만 표현)\n",
    "sb.lineplot(data=df1_resampled, x=df1_resampled.index, y='승차', label='승차')\n",
    "\n",
    "# \"FittedValues\" 및 \"Predict\" 데이터를 2달 단위로 리샘플링\n",
    "fv_resampled = fv.resample('2M').sum()\n",
    "fv_resampled = fv_resampled.iloc[:-1]\n",
    "# 원본에 대한 학습결과 (2달 단위로 표현)\n",
    "sb.lineplot(x=fv_resampled.index, y=fv_resampled.values, label='FittedValues', linestyle='--')\n",
    "\n",
    "fc_resampled = fc.resample('2M').sum()\n",
    "\n",
    "# 향후 1년간의 예측값 (2달 단위로 표현)\n",
    "sb.lineplot(x=fc_resampled.index, y=fc_resampled.values, label='Predict', linestyle='--', color='red')\n",
    "\n",
    "plt.title(\"세종시 날짜별 승차 데이터\")\n",
    "plt.xlabel('년/월')\n",
    "xStart = to_datetime('2020-01')\n",
    "xEnd = to_datetime('2025-01')\n",
    "plt.xlim(xStart, xEnd)\n",
    "plt.ylabel('승차수(명)')\n",
    "plt.ylim(0.75*1e6, )\n",
    "plt.legend()\n",
    "\n",
    "# 그래프의 x축이 날짜로 구성되어 있을 경우 형식 지정\n",
    "monthyearFmt = mdates.DateFormatter('%y-%m')\n",
    "plt.gca().xaxis.set_major_formatter(monthyearFmt)\n",
    "plt.grid()\n",
    "plt.show()\n",
    "plt.close()"
   ]
  },
  {
   "cell_type": "code",
   "execution_count": null,
   "metadata": {},
   "outputs": [],
   "source": []
  }
 ],
 "metadata": {
  "kernelspec": {
   "display_name": "Python 3",
   "language": "python",
   "name": "python3"
  },
  "language_info": {
   "codemirror_mode": {
    "name": "ipython",
    "version": 3
   },
   "file_extension": ".py",
   "mimetype": "text/x-python",
   "name": "python",
   "nbconvert_exporter": "python",
   "pygments_lexer": "ipython3",
   "version": "3.9.13"
  }
 },
 "nbformat": 4,
 "nbformat_minor": 2
}
