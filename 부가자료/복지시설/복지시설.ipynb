{
 "cells": [
  {
   "cell_type": "code",
   "execution_count": 1,
   "metadata": {},
   "outputs": [],
   "source": [
    "import sys\n",
    "from matplotlib import pyplot as plt\n",
    "from pandas import read_excel\n",
    "import numpy as np\n",
    "import pandas as pd\n",
    "import seaborn as sb"
   ]
  },
  {
   "cell_type": "code",
   "execution_count": 2,
   "metadata": {},
   "outputs": [
    {
     "data": {
      "text/html": [
       "<div>\n",
       "<style scoped>\n",
       "    .dataframe tbody tr th:only-of-type {\n",
       "        vertical-align: middle;\n",
       "    }\n",
       "\n",
       "    .dataframe tbody tr th {\n",
       "        vertical-align: top;\n",
       "    }\n",
       "\n",
       "    .dataframe thead th {\n",
       "        text-align: right;\n",
       "    }\n",
       "</style>\n",
       "<table border=\"1\" class=\"dataframe\">\n",
       "  <thead>\n",
       "    <tr style=\"text-align: right;\">\n",
       "      <th></th>\n",
       "      <th>소재지</th>\n",
       "      <th>위도</th>\n",
       "      <th>경도</th>\n",
       "    </tr>\n",
       "    <tr>\n",
       "      <th>시설명</th>\n",
       "      <th></th>\n",
       "      <th></th>\n",
       "      <th></th>\n",
       "    </tr>\n",
       "  </thead>\n",
       "  <tbody>\n",
       "    <tr>\n",
       "      <th>영명보육원</th>\n",
       "      <td>세종특별자치시 연서면 월성로 239</td>\n",
       "      <td>36.588128</td>\n",
       "      <td>127.274352</td>\n",
       "    </tr>\n",
       "    <tr>\n",
       "      <th>아동보호전문기관</th>\n",
       "      <td>세종특별자치시 새롬로 14 새롬복지센터 2층</td>\n",
       "      <td>36.485977</td>\n",
       "      <td>127.256447</td>\n",
       "    </tr>\n",
       "    <tr>\n",
       "      <th>세종중앙 지역아동센터</th>\n",
       "      <td>세종특별자치시 조치원읍 장안길 97-7(2층)</td>\n",
       "      <td>36.485943</td>\n",
       "      <td>127.256491</td>\n",
       "    </tr>\n",
       "    <tr>\n",
       "      <th>욱일 지역아동센터</th>\n",
       "      <td>세종특별자치시 조치원읍 충현로 159 욱일상가 404호</td>\n",
       "      <td>36.602953</td>\n",
       "      <td>127.293083</td>\n",
       "    </tr>\n",
       "    <tr>\n",
       "      <th>세종삼육 지역아동센터</th>\n",
       "      <td>세종특별자치시 조치원읍 새내14길 32</td>\n",
       "      <td>36.603169</td>\n",
       "      <td>127.299493</td>\n",
       "    </tr>\n",
       "    <tr>\n",
       "      <th>...</th>\n",
       "      <td>...</td>\n",
       "      <td>...</td>\n",
       "      <td>...</td>\n",
       "    </tr>\n",
       "    <tr>\n",
       "      <th>종촌종합복지센터 노인주간보호센터</th>\n",
       "      <td>세종특별자치시 도움1로 116, 3(종촌동)</td>\n",
       "      <td>36.502764</td>\n",
       "      <td>127.246462</td>\n",
       "    </tr>\n",
       "    <tr>\n",
       "      <th>행복요양센터</th>\n",
       "      <td>세종특별자치시 연기면 수왕로 305-69</td>\n",
       "      <td>36.538328</td>\n",
       "      <td>127.242014</td>\n",
       "    </tr>\n",
       "    <tr>\n",
       "      <th>참사랑노인복지센터</th>\n",
       "      <td>세종특별자치시 조치원읍 충현로 27, 2층</td>\n",
       "      <td>36.591610</td>\n",
       "      <td>127.298538</td>\n",
       "    </tr>\n",
       "    <tr>\n",
       "      <th>조약돌요양복지센터</th>\n",
       "      <td>세종특별자치시 장군면 장척로 408, 2층</td>\n",
       "      <td>36.497299</td>\n",
       "      <td>127.205965</td>\n",
       "    </tr>\n",
       "    <tr>\n",
       "      <th>래하임시니어복지센터</th>\n",
       "      <td>세종특별자치시 금남면 용포1길 7, 1층</td>\n",
       "      <td>36.462995</td>\n",
       "      <td>127.280165</td>\n",
       "    </tr>\n",
       "  </tbody>\n",
       "</table>\n",
       "<p>115 rows × 3 columns</p>\n",
       "</div>"
      ],
      "text/plain": [
       "                                              소재지         위도          경도\n",
       "시설명                                                                     \n",
       "영명보육원                         세종특별자치시 연서면 월성로 239  36.588128  127.274352\n",
       "아동보호전문기관                 세종특별자치시 새롬로 14 새롬복지센터 2층  36.485977  127.256447\n",
       "세종중앙 지역아동센터             세종특별자치시 조치원읍 장안길 97-7(2층)  36.485943  127.256491\n",
       "욱일 지역아동센터          세종특별자치시 조치원읍 충현로 159 욱일상가 404호  36.602953  127.293083\n",
       "세종삼육 지역아동센터                 세종특별자치시 조치원읍 새내14길 32  36.603169  127.299493\n",
       "...                                           ...        ...         ...\n",
       "종촌종합복지센터 노인주간보호센터        세종특별자치시 도움1로 116, 3(종촌동)  36.502764  127.246462\n",
       "행복요양센터                     세종특별자치시 연기면 수왕로 305-69  36.538328  127.242014\n",
       "참사랑노인복지센터                 세종특별자치시 조치원읍 충현로 27, 2층  36.591610  127.298538\n",
       "조약돌요양복지센터                 세종특별자치시 장군면 장척로 408, 2층  36.497299  127.205965\n",
       "래하임시니어복지센터                 세종특별자치시 금남면 용포1길 7, 1층  36.462995  127.280165\n",
       "\n",
       "[115 rows x 3 columns]"
      ]
     },
     "execution_count": 2,
     "metadata": {},
     "output_type": "execute_result"
    }
   ],
   "source": [
    "origin = read_excel(\"복지관_정보_위도경도.xlsx\", index_col=\"시설명\")\n",
    "origin"
   ]
  },
  {
   "cell_type": "code",
   "execution_count": 3,
   "metadata": {},
   "outputs": [
    {
     "data": {
      "text/plain": [
       "시설명\n",
       "영명보육원                           세종특별자치시 연서면 월성로 239\n",
       "아동보호전문기관                   세종특별자치시 새롬로 14 새롬복지센터 2층\n",
       "세종중앙 지역아동센터               세종특별자치시 조치원읍 장안길 97-7(2층)\n",
       "욱일 지역아동센터            세종특별자치시 조치원읍 충현로 159 욱일상가 404호\n",
       "세종삼육 지역아동센터                   세종특별자치시 조치원읍 새내14길 32\n",
       "                                  ...              \n",
       "종촌종합복지센터 노인주간보호센터          세종특별자치시 도움1로 116, 3(종촌동)\n",
       "행복요양센터                       세종특별자치시 연기면 수왕로 305-69\n",
       "참사랑노인복지센터                   세종특별자치시 조치원읍 충현로 27, 2층\n",
       "조약돌요양복지센터                   세종특별자치시 장군면 장척로 408, 2층\n",
       "래하임시니어복지센터                   세종특별자치시 금남면 용포1길 7, 1층\n",
       "Name: 소재지, Length: 115, dtype: object"
      ]
     },
     "execution_count": 3,
     "metadata": {},
     "output_type": "execute_result"
    }
   ],
   "source": [
    "origin['소재지']"
   ]
  },
  {
   "cell_type": "code",
   "execution_count": 4,
   "metadata": {},
   "outputs": [
    {
     "data": {
      "text/plain": [
       "시설명\n",
       "영명보육원                             [세종특별자치시, 연서면, 월성로, 239]\n",
       "아동보호전문기관                    [세종특별자치시, 새롬로, 14, 새롬복지센터, 2층]\n",
       "세종중앙 지역아동센터                 [세종특별자치시, 조치원읍, 장안길, 97-7(2층)]\n",
       "욱일 지역아동센터            [세종특별자치시, 조치원읍, 충현로, 159, 욱일상가, 404호]\n",
       "세종삼육 지역아동센터                     [세종특별자치시, 조치원읍, 새내14길, 32]\n",
       "                                     ...                  \n",
       "종촌종합복지센터 노인주간보호센터            [세종특별자치시, 도움1로, 116,, 3(종촌동)]\n",
       "행복요양센터                         [세종특별자치시, 연기면, 수왕로, 305-69]\n",
       "참사랑노인복지센터                    [세종특별자치시, 조치원읍, 충현로, 27,, 2층]\n",
       "조약돌요양복지센터                    [세종특별자치시, 장군면, 장척로, 408,, 2층]\n",
       "래하임시니어복지센터                    [세종특별자치시, 금남면, 용포1길, 7,, 1층]\n",
       "Name: 소재지, Length: 115, dtype: object"
      ]
     },
     "execution_count": 4,
     "metadata": {},
     "output_type": "execute_result"
    }
   ],
   "source": [
    "addr_split = origin['소재지'].str.split(' ')\n",
    "addr_split"
   ]
  },
  {
   "cell_type": "code",
   "execution_count": 5,
   "metadata": {},
   "outputs": [
    {
     "data": {
      "text/html": [
       "<div>\n",
       "<style scoped>\n",
       "    .dataframe tbody tr th:only-of-type {\n",
       "        vertical-align: middle;\n",
       "    }\n",
       "\n",
       "    .dataframe tbody tr th {\n",
       "        vertical-align: top;\n",
       "    }\n",
       "\n",
       "    .dataframe thead th {\n",
       "        text-align: right;\n",
       "    }\n",
       "</style>\n",
       "<table border=\"1\" class=\"dataframe\">\n",
       "  <thead>\n",
       "    <tr style=\"text-align: right;\">\n",
       "      <th></th>\n",
       "      <th>소재지</th>\n",
       "      <th>위도</th>\n",
       "      <th>경도</th>\n",
       "      <th>행정구역</th>\n",
       "    </tr>\n",
       "    <tr>\n",
       "      <th>시설명</th>\n",
       "      <th></th>\n",
       "      <th></th>\n",
       "      <th></th>\n",
       "      <th></th>\n",
       "    </tr>\n",
       "  </thead>\n",
       "  <tbody>\n",
       "    <tr>\n",
       "      <th>영명보육원</th>\n",
       "      <td>세종특별자치시 연서면 월성로 239</td>\n",
       "      <td>36.588128</td>\n",
       "      <td>127.274352</td>\n",
       "      <td>연서면</td>\n",
       "    </tr>\n",
       "    <tr>\n",
       "      <th>아동보호전문기관</th>\n",
       "      <td>세종특별자치시 새롬로 14 새롬복지센터 2층</td>\n",
       "      <td>36.485977</td>\n",
       "      <td>127.256447</td>\n",
       "      <td>새롬로</td>\n",
       "    </tr>\n",
       "    <tr>\n",
       "      <th>세종중앙 지역아동센터</th>\n",
       "      <td>세종특별자치시 조치원읍 장안길 97-7(2층)</td>\n",
       "      <td>36.485943</td>\n",
       "      <td>127.256491</td>\n",
       "      <td>조치원읍</td>\n",
       "    </tr>\n",
       "    <tr>\n",
       "      <th>욱일 지역아동센터</th>\n",
       "      <td>세종특별자치시 조치원읍 충현로 159 욱일상가 404호</td>\n",
       "      <td>36.602953</td>\n",
       "      <td>127.293083</td>\n",
       "      <td>조치원읍</td>\n",
       "    </tr>\n",
       "    <tr>\n",
       "      <th>세종삼육 지역아동센터</th>\n",
       "      <td>세종특별자치시 조치원읍 새내14길 32</td>\n",
       "      <td>36.603169</td>\n",
       "      <td>127.299493</td>\n",
       "      <td>조치원읍</td>\n",
       "    </tr>\n",
       "    <tr>\n",
       "      <th>...</th>\n",
       "      <td>...</td>\n",
       "      <td>...</td>\n",
       "      <td>...</td>\n",
       "      <td>...</td>\n",
       "    </tr>\n",
       "    <tr>\n",
       "      <th>종촌종합복지센터 노인주간보호센터</th>\n",
       "      <td>세종특별자치시 도움1로 116, 3(종촌동)</td>\n",
       "      <td>36.502764</td>\n",
       "      <td>127.246462</td>\n",
       "      <td>도움1로</td>\n",
       "    </tr>\n",
       "    <tr>\n",
       "      <th>행복요양센터</th>\n",
       "      <td>세종특별자치시 연기면 수왕로 305-69</td>\n",
       "      <td>36.538328</td>\n",
       "      <td>127.242014</td>\n",
       "      <td>연기면</td>\n",
       "    </tr>\n",
       "    <tr>\n",
       "      <th>참사랑노인복지센터</th>\n",
       "      <td>세종특별자치시 조치원읍 충현로 27, 2층</td>\n",
       "      <td>36.591610</td>\n",
       "      <td>127.298538</td>\n",
       "      <td>조치원읍</td>\n",
       "    </tr>\n",
       "    <tr>\n",
       "      <th>조약돌요양복지센터</th>\n",
       "      <td>세종특별자치시 장군면 장척로 408, 2층</td>\n",
       "      <td>36.497299</td>\n",
       "      <td>127.205965</td>\n",
       "      <td>장군면</td>\n",
       "    </tr>\n",
       "    <tr>\n",
       "      <th>래하임시니어복지센터</th>\n",
       "      <td>세종특별자치시 금남면 용포1길 7, 1층</td>\n",
       "      <td>36.462995</td>\n",
       "      <td>127.280165</td>\n",
       "      <td>금남면</td>\n",
       "    </tr>\n",
       "  </tbody>\n",
       "</table>\n",
       "<p>115 rows × 4 columns</p>\n",
       "</div>"
      ],
      "text/plain": [
       "                                              소재지         위도          경도  행정구역\n",
       "시설명                                                                           \n",
       "영명보육원                         세종특별자치시 연서면 월성로 239  36.588128  127.274352   연서면\n",
       "아동보호전문기관                 세종특별자치시 새롬로 14 새롬복지센터 2층  36.485977  127.256447   새롬로\n",
       "세종중앙 지역아동센터             세종특별자치시 조치원읍 장안길 97-7(2층)  36.485943  127.256491  조치원읍\n",
       "욱일 지역아동센터          세종특별자치시 조치원읍 충현로 159 욱일상가 404호  36.602953  127.293083  조치원읍\n",
       "세종삼육 지역아동센터                 세종특별자치시 조치원읍 새내14길 32  36.603169  127.299493  조치원읍\n",
       "...                                           ...        ...         ...   ...\n",
       "종촌종합복지센터 노인주간보호센터        세종특별자치시 도움1로 116, 3(종촌동)  36.502764  127.246462  도움1로\n",
       "행복요양센터                     세종특별자치시 연기면 수왕로 305-69  36.538328  127.242014   연기면\n",
       "참사랑노인복지센터                 세종특별자치시 조치원읍 충현로 27, 2층  36.591610  127.298538  조치원읍\n",
       "조약돌요양복지센터                 세종특별자치시 장군면 장척로 408, 2층  36.497299  127.205965   장군면\n",
       "래하임시니어복지센터                 세종특별자치시 금남면 용포1길 7, 1층  36.462995  127.280165   금남면\n",
       "\n",
       "[115 rows x 4 columns]"
      ]
     },
     "execution_count": 5,
     "metadata": {},
     "output_type": "execute_result"
    }
   ],
   "source": [
    "origin['행정구역'] = addr_split.str.get(1)\n",
    "origin1 = origin\n",
    "origin1"
   ]
  },
  {
   "cell_type": "code",
   "execution_count": 6,
   "metadata": {},
   "outputs": [
    {
     "data": {
      "text/plain": [
       "행정구역\n",
       "조치원읍           36\n",
       "한누리대로          11\n",
       "연서면            10\n",
       "전동면             7\n",
       "도움1로            7\n",
       "전의면             6\n",
       "보듬3로            5\n",
       "금남면             5\n",
       "도움3로            4\n",
       "연기면             3\n",
       "부강면             2\n",
       "장군면             2\n",
       "마음로             2\n",
       "세종로1234-12,     2\n",
       "새롬로             2\n",
       "새롬중앙로62-15,     2\n",
       "호려울로            2\n",
       "보람로             1\n",
       "보듬4로            1\n",
       "대평로             1\n",
       "다정남3로           1\n",
       "새롬중앙로           1\n",
       "대평1길            1\n",
       "연동면             1\n",
       "Name: count, dtype: int64"
      ]
     },
     "execution_count": 6,
     "metadata": {},
     "output_type": "execute_result"
    }
   ],
   "source": [
    "origin1['행정구역'].value_counts()"
   ]
  },
  {
   "cell_type": "code",
   "execution_count": 7,
   "metadata": {},
   "outputs": [],
   "source": [
    "plt.rcParams[\"font.family\"] = 'Malgun Gothic'\n",
    "plt.rcParams[\"font.size\"] = 10\n",
    "plt.rcParams[\"figure.figsize\"] = (5, 5)\n",
    "plt.rcParams[\"axes.unicode_minus\"] = False"
   ]
  },
  {
   "cell_type": "code",
   "execution_count": 8,
   "metadata": {},
   "outputs": [
    {
     "name": "stderr",
     "output_type": "stream",
     "text": [
      "c:\\Users\\user\\AppData\\Local\\Programs\\Python\\Python39\\lib\\site-packages\\seaborn\\axisgrid.py:118: UserWarning: The figure layout has changed to tight\n",
      "  self._figure.tight_layout(*args, **kwargs)\n"
     ]
    },
    {
     "data": {
      "image/png": "[encoded data removed]",
      "text/plain": [
       "<Figure size 2000x500 with 1 Axes>"
      ]
     },
     "metadata": {},
     "output_type": "display_data"
    }
   ],
   "source": [
    "\n",
    "g = sb.catplot(data = origin1,\n",
    "               x = '행정구역',        # 집단을 구분하는 기준\n",
    "               kind = 'count',      # 그래프 종류\n",
    "               palette='pastel',    # 색상표 지정\n",
    "               edgecolor = '0.5'    # 막대 테두리 색상 투명도 지정(0=불투명 ~ 1=투명, ex:0.5 = 반투명)\n",
    "               )\n",
    "g.set_xticklabels(rotation=45)\n",
    "sb.set(style=\"whitegrid\")\n",
    "g.fig.set_figwidth(20)\n",
    "g.fig.set_figheight(5)\n"
   ]
  }
 ],
 "metadata": {
  "kernelspec": {
   "display_name": "Python 3",
   "language": "python",
   "name": "python3"
  },
  "language_info": {
   "codemirror_mode": {
    "name": "ipython",
    "version": 3
   },
   "file_extension": ".py",
   "mimetype": "text/x-python",
   "name": "python",
   "nbconvert_exporter": "python",
   "pygments_lexer": "ipython3",
   "version": "3.9.10"
  },
  "orig_nbformat": 4
 },
 "nbformat": 4,
 "nbformat_minor": 2
}
